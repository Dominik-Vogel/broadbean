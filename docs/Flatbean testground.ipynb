{
 "cells": [
  {
   "cell_type": "markdown",
   "metadata": {},
   "source": [
    "# Pulsebuilding Tutorial Flatbean Version\n",
    "Yapublib! Short intro on how to used this new Broadbean version to simply create pulses.\n",
    "One could say that going from the previous version to this version empowers the user in a similar way as going from the old dataset to the new data set, in the sense that for these _hard sweeps_ ordinary python syntax can be used very easily (adaptive sweeps are of course not possible)."
   ]
  },
  {
   "cell_type": "markdown",
   "metadata": {},
   "source": [
    "## System Setup\n",
    "To setup the system we use the `StationConfigurator` to generate an instance of the AWG5014. However all should be compatible with other AWGs. \n",
    "\n",
    "In the next cell we define the instrument instance and create a virtual instrument so that this notebook can also be used without an AWG at hand. Furthermore we define a function to send and plot the forged sequence."
   ]
  },
  {
   "cell_type": "code",
   "execution_count": 10,
   "metadata": {},
   "outputs": [
    {
     "ename": "TypeError",
     "evalue": "(\"'NoneType' object is not iterable\", \"writing 'TRIGger:IMPedance 50' to <Tektronix_AWG5014: awg_sim>\", 'setting awg_sim_trigger_impedance to 50')",
     "output_type": "error",
     "traceback": [
      "\u001b[1;31m---------------------------------------------------------------------------\u001b[0m",
      "\u001b[1;31mTypeError\u001b[0m                                 Traceback (most recent call last)",
      "\u001b[1;32m<ipython-input-10-d1b72c6da6ed>\u001b[0m in \u001b[0;36m<module>\u001b[1;34m()\u001b[0m\n\u001b[0;32m     13\u001b[0m                                 \u001b[0mtimeout\u001b[0m\u001b[1;33m=\u001b[0m\u001b[1;36m1\u001b[0m\u001b[1;33m,\u001b[0m\u001b[1;33m\u001b[0m\u001b[0m\n\u001b[0;32m     14\u001b[0m                                 \u001b[0mterminator\u001b[0m\u001b[1;33m=\u001b[0m\u001b[1;34m'\\n'\u001b[0m\u001b[1;33m,\u001b[0m\u001b[1;33m\u001b[0m\u001b[0m\n\u001b[1;32m---> 15\u001b[1;33m                                 visalib=visalib)\n\u001b[0m",
      "\u001b[1;32mc:\\users\\a-dovoge\\qcodes\\qcodes\\instrument_drivers\\tektronix\\AWG5014.py\u001b[0m in \u001b[0;36m__init__\u001b[1;34m(self, name, address, timeout, num_channels, **kwargs)\u001b[0m\n\u001b[0;32m    395\u001b[0m                     get_parser=float)\n\u001b[0;32m    396\u001b[0m \u001b[1;33m\u001b[0m\u001b[0m\n\u001b[1;32m--> 397\u001b[1;33m         \u001b[0mself\u001b[0m\u001b[1;33m.\u001b[0m\u001b[0mset\u001b[0m\u001b[1;33m(\u001b[0m\u001b[1;34m'trigger_impedance'\u001b[0m\u001b[1;33m,\u001b[0m \u001b[1;36m50\u001b[0m\u001b[1;33m)\u001b[0m\u001b[1;33m\u001b[0m\u001b[0m\n\u001b[0m\u001b[0;32m    398\u001b[0m         \u001b[1;32mif\u001b[0m \u001b[0mself\u001b[0m\u001b[1;33m.\u001b[0m\u001b[0mget\u001b[0m\u001b[1;33m(\u001b[0m\u001b[1;34m'clock_freq'\u001b[0m\u001b[1;33m)\u001b[0m \u001b[1;33m!=\u001b[0m \u001b[1;36m1e9\u001b[0m\u001b[1;33m:\u001b[0m\u001b[1;33m\u001b[0m\u001b[0m\n\u001b[0;32m    399\u001b[0m             \u001b[0mlog\u001b[0m\u001b[1;33m.\u001b[0m\u001b[0minfo\u001b[0m\u001b[1;33m(\u001b[0m\u001b[1;34m'AWG clock freq not set to 1GHz'\u001b[0m\u001b[1;33m)\u001b[0m\u001b[1;33m\u001b[0m\u001b[0m\n",
      "\u001b[1;32mc:\\users\\a-dovoge\\qcodes\\qcodes\\instrument\\base.py\u001b[0m in \u001b[0;36mset\u001b[1;34m(self, param_name, value)\u001b[0m\n\u001b[0;32m    298\u001b[0m             \u001b[0mvalue\u001b[0m\u001b[1;33m:\u001b[0m \u001b[0mThe\u001b[0m \u001b[0mnew\u001b[0m \u001b[0mvalue\u001b[0m \u001b[0mto\u001b[0m \u001b[0mset\u001b[0m\u001b[1;33m.\u001b[0m\u001b[1;33m\u001b[0m\u001b[0m\n\u001b[0;32m    299\u001b[0m         \"\"\"\n\u001b[1;32m--> 300\u001b[1;33m         \u001b[0mself\u001b[0m\u001b[1;33m.\u001b[0m\u001b[0mparameters\u001b[0m\u001b[1;33m[\u001b[0m\u001b[0mparam_name\u001b[0m\u001b[1;33m]\u001b[0m\u001b[1;33m.\u001b[0m\u001b[0mset\u001b[0m\u001b[1;33m(\u001b[0m\u001b[0mvalue\u001b[0m\u001b[1;33m)\u001b[0m\u001b[1;33m\u001b[0m\u001b[0m\n\u001b[0m\u001b[0;32m    301\u001b[0m \u001b[1;33m\u001b[0m\u001b[0m\n\u001b[0;32m    302\u001b[0m     \u001b[1;32mdef\u001b[0m \u001b[0mget\u001b[0m\u001b[1;33m(\u001b[0m\u001b[0mself\u001b[0m\u001b[1;33m,\u001b[0m \u001b[0mparam_name\u001b[0m\u001b[1;33m:\u001b[0m \u001b[0mstr\u001b[0m\u001b[1;33m)\u001b[0m \u001b[1;33m->\u001b[0m \u001b[0mAny\u001b[0m\u001b[1;33m:\u001b[0m\u001b[1;33m\u001b[0m\u001b[0m\n",
      "\u001b[1;32mc:\\users\\a-dovoge\\qcodes\\qcodes\\instrument\\parameter.py\u001b[0m in \u001b[0;36mset_wrapper\u001b[1;34m(value, **kwargs)\u001b[0m\n\u001b[0;32m    477\u001b[0m             \u001b[1;32mexcept\u001b[0m \u001b[0mException\u001b[0m \u001b[1;32mas\u001b[0m \u001b[0me\u001b[0m\u001b[1;33m:\u001b[0m\u001b[1;33m\u001b[0m\u001b[0m\n\u001b[0;32m    478\u001b[0m                 \u001b[0me\u001b[0m\u001b[1;33m.\u001b[0m\u001b[0margs\u001b[0m \u001b[1;33m=\u001b[0m \u001b[0me\u001b[0m\u001b[1;33m.\u001b[0m\u001b[0margs\u001b[0m \u001b[1;33m+\u001b[0m \u001b[1;33m(\u001b[0m\u001b[1;34m'setting {} to {}'\u001b[0m\u001b[1;33m.\u001b[0m\u001b[0mformat\u001b[0m\u001b[1;33m(\u001b[0m\u001b[0mself\u001b[0m\u001b[1;33m,\u001b[0m \u001b[0mvalue\u001b[0m\u001b[1;33m)\u001b[0m\u001b[1;33m,\u001b[0m\u001b[1;33m)\u001b[0m\u001b[1;33m\u001b[0m\u001b[0m\n\u001b[1;32m--> 479\u001b[1;33m                 \u001b[1;32mraise\u001b[0m \u001b[0me\u001b[0m\u001b[1;33m\u001b[0m\u001b[0m\n\u001b[0m\u001b[0;32m    480\u001b[0m \u001b[1;33m\u001b[0m\u001b[0m\n\u001b[0;32m    481\u001b[0m         \u001b[1;32mreturn\u001b[0m \u001b[0mset_wrapper\u001b[0m\u001b[1;33m\u001b[0m\u001b[0m\n",
      "\u001b[1;32mc:\\users\\a-dovoge\\qcodes\\qcodes\\instrument\\parameter.py\u001b[0m in \u001b[0;36mset_wrapper\u001b[1;34m(value, **kwargs)\u001b[0m\n\u001b[0;32m    458\u001b[0m                     \u001b[0mt0\u001b[0m \u001b[1;33m=\u001b[0m \u001b[0mtime\u001b[0m\u001b[1;33m.\u001b[0m\u001b[0mperf_counter\u001b[0m\u001b[1;33m(\u001b[0m\u001b[1;33m)\u001b[0m\u001b[1;33m\u001b[0m\u001b[0m\n\u001b[0;32m    459\u001b[0m \u001b[1;33m\u001b[0m\u001b[0m\n\u001b[1;32m--> 460\u001b[1;33m                     \u001b[0mset_function\u001b[0m\u001b[1;33m(\u001b[0m\u001b[0mraw_value\u001b[0m\u001b[1;33m,\u001b[0m \u001b[1;33m**\u001b[0m\u001b[0mkwargs\u001b[0m\u001b[1;33m)\u001b[0m\u001b[1;33m\u001b[0m\u001b[0m\n\u001b[0m\u001b[0;32m    461\u001b[0m                     \u001b[0mself\u001b[0m\u001b[1;33m.\u001b[0m\u001b[0mraw_value\u001b[0m \u001b[1;33m=\u001b[0m \u001b[0mraw_value\u001b[0m\u001b[1;33m\u001b[0m\u001b[0m\n\u001b[0;32m    462\u001b[0m                     self._save_val(val_step,\n",
      "\u001b[1;32mc:\\users\\a-dovoge\\qcodes\\qcodes\\utils\\command.py\u001b[0m in \u001b[0;36m__call__\u001b[1;34m(self, *args)\u001b[0m\n\u001b[0;32m    175\u001b[0m             raise TypeError(\n\u001b[0;32m    176\u001b[0m                 'command takes exactly {} args'.format(self.arg_count))\n\u001b[1;32m--> 177\u001b[1;33m         \u001b[1;32mreturn\u001b[0m \u001b[0mself\u001b[0m\u001b[1;33m.\u001b[0m\u001b[0mexec_function\u001b[0m\u001b[1;33m(\u001b[0m\u001b[1;33m*\u001b[0m\u001b[0margs\u001b[0m\u001b[1;33m)\u001b[0m\u001b[1;33m\u001b[0m\u001b[0m\n\u001b[0m",
      "\u001b[1;32mc:\\users\\a-dovoge\\qcodes\\qcodes\\utils\\command.py\u001b[0m in \u001b[0;36mcall_by_str\u001b[1;34m(self, *args)\u001b[0m\n\u001b[0;32m    124\u001b[0m     \u001b[1;32mdef\u001b[0m \u001b[0mcall_by_str\u001b[0m\u001b[1;33m(\u001b[0m\u001b[0mself\u001b[0m\u001b[1;33m,\u001b[0m \u001b[1;33m*\u001b[0m\u001b[0margs\u001b[0m\u001b[1;33m)\u001b[0m\u001b[1;33m:\u001b[0m\u001b[1;33m\u001b[0m\u001b[0m\n\u001b[0;32m    125\u001b[0m         \u001b[1;34m\"\"\"Execute a formatted string.\"\"\"\u001b[0m\u001b[1;33m\u001b[0m\u001b[0m\n\u001b[1;32m--> 126\u001b[1;33m         \u001b[1;32mreturn\u001b[0m \u001b[0mself\u001b[0m\u001b[1;33m.\u001b[0m\u001b[0mexec_str\u001b[0m\u001b[1;33m(\u001b[0m\u001b[0mself\u001b[0m\u001b[1;33m.\u001b[0m\u001b[0mcmd_str\u001b[0m\u001b[1;33m.\u001b[0m\u001b[0mformat\u001b[0m\u001b[1;33m(\u001b[0m\u001b[1;33m*\u001b[0m\u001b[0margs\u001b[0m\u001b[1;33m)\u001b[0m\u001b[1;33m)\u001b[0m\u001b[1;33m\u001b[0m\u001b[0m\n\u001b[0m\u001b[0;32m    127\u001b[0m \u001b[1;33m\u001b[0m\u001b[0m\n\u001b[0;32m    128\u001b[0m     \u001b[1;32mdef\u001b[0m \u001b[0mcall_by_str_parsed_out\u001b[0m\u001b[1;33m(\u001b[0m\u001b[0mself\u001b[0m\u001b[1;33m,\u001b[0m \u001b[1;33m*\u001b[0m\u001b[0margs\u001b[0m\u001b[1;33m)\u001b[0m\u001b[1;33m:\u001b[0m\u001b[1;33m\u001b[0m\u001b[0m\n",
      "\u001b[1;32mc:\\users\\a-dovoge\\qcodes\\qcodes\\instrument\\base.py\u001b[0m in \u001b[0;36mwrite\u001b[1;34m(self, cmd)\u001b[0m\n\u001b[0;32m    638\u001b[0m             \u001b[0minst\u001b[0m \u001b[1;33m=\u001b[0m \u001b[0mrepr\u001b[0m\u001b[1;33m(\u001b[0m\u001b[0mself\u001b[0m\u001b[1;33m)\u001b[0m\u001b[1;33m\u001b[0m\u001b[0m\n\u001b[0;32m    639\u001b[0m             \u001b[0me\u001b[0m\u001b[1;33m.\u001b[0m\u001b[0margs\u001b[0m \u001b[1;33m=\u001b[0m \u001b[0me\u001b[0m\u001b[1;33m.\u001b[0m\u001b[0margs\u001b[0m \u001b[1;33m+\u001b[0m \u001b[1;33m(\u001b[0m\u001b[1;34m'writing '\u001b[0m \u001b[1;33m+\u001b[0m \u001b[0mrepr\u001b[0m\u001b[1;33m(\u001b[0m\u001b[0mcmd\u001b[0m\u001b[1;33m)\u001b[0m \u001b[1;33m+\u001b[0m \u001b[1;34m' to '\u001b[0m \u001b[1;33m+\u001b[0m \u001b[0minst\u001b[0m\u001b[1;33m,\u001b[0m\u001b[1;33m)\u001b[0m\u001b[1;33m\u001b[0m\u001b[0m\n\u001b[1;32m--> 640\u001b[1;33m             \u001b[1;32mraise\u001b[0m \u001b[0me\u001b[0m\u001b[1;33m\u001b[0m\u001b[0m\n\u001b[0m\u001b[0;32m    641\u001b[0m \u001b[1;33m\u001b[0m\u001b[0m\n\u001b[0;32m    642\u001b[0m     \u001b[1;32mdef\u001b[0m \u001b[0mwrite_raw\u001b[0m\u001b[1;33m(\u001b[0m\u001b[0mself\u001b[0m\u001b[1;33m,\u001b[0m \u001b[0mcmd\u001b[0m\u001b[1;33m:\u001b[0m \u001b[0mstr\u001b[0m\u001b[1;33m)\u001b[0m \u001b[1;33m->\u001b[0m \u001b[1;32mNone\u001b[0m\u001b[1;33m:\u001b[0m\u001b[1;33m\u001b[0m\u001b[0m\n",
      "\u001b[1;32mc:\\users\\a-dovoge\\qcodes\\qcodes\\instrument\\base.py\u001b[0m in \u001b[0;36mwrite\u001b[1;34m(self, cmd)\u001b[0m\n\u001b[0;32m    634\u001b[0m         \"\"\"\n\u001b[0;32m    635\u001b[0m         \u001b[1;32mtry\u001b[0m\u001b[1;33m:\u001b[0m\u001b[1;33m\u001b[0m\u001b[0m\n\u001b[1;32m--> 636\u001b[1;33m             \u001b[0mself\u001b[0m\u001b[1;33m.\u001b[0m\u001b[0mwrite_raw\u001b[0m\u001b[1;33m(\u001b[0m\u001b[0mcmd\u001b[0m\u001b[1;33m)\u001b[0m\u001b[1;33m\u001b[0m\u001b[0m\n\u001b[0m\u001b[0;32m    637\u001b[0m         \u001b[1;32mexcept\u001b[0m \u001b[0mException\u001b[0m \u001b[1;32mas\u001b[0m \u001b[0me\u001b[0m\u001b[1;33m:\u001b[0m\u001b[1;33m\u001b[0m\u001b[0m\n\u001b[0;32m    638\u001b[0m             \u001b[0minst\u001b[0m \u001b[1;33m=\u001b[0m \u001b[0mrepr\u001b[0m\u001b[1;33m(\u001b[0m\u001b[0mself\u001b[0m\u001b[1;33m)\u001b[0m\u001b[1;33m\u001b[0m\u001b[0m\n",
      "\u001b[1;32mc:\\users\\a-dovoge\\qcodes\\qcodes\\instrument\\visa.py\u001b[0m in \u001b[0;36mwrite_raw\u001b[1;34m(self, cmd)\u001b[0m\n\u001b[0;32m    203\u001b[0m         \u001b[0mlog\u001b[0m\u001b[1;33m.\u001b[0m\u001b[0mdebug\u001b[0m\u001b[1;33m(\u001b[0m\u001b[1;34m\"Writing to instrument {}: {}\"\u001b[0m\u001b[1;33m.\u001b[0m\u001b[0mformat\u001b[0m\u001b[1;33m(\u001b[0m\u001b[0mself\u001b[0m\u001b[1;33m.\u001b[0m\u001b[0mname\u001b[0m\u001b[1;33m,\u001b[0m \u001b[0mcmd\u001b[0m\u001b[1;33m)\u001b[0m\u001b[1;33m)\u001b[0m\u001b[1;33m\u001b[0m\u001b[0m\n\u001b[0;32m    204\u001b[0m \u001b[1;33m\u001b[0m\u001b[0m\n\u001b[1;32m--> 205\u001b[1;33m         \u001b[0mnr_bytes_written\u001b[0m\u001b[1;33m,\u001b[0m \u001b[0mret_code\u001b[0m \u001b[1;33m=\u001b[0m \u001b[0mself\u001b[0m\u001b[1;33m.\u001b[0m\u001b[0mvisa_handle\u001b[0m\u001b[1;33m.\u001b[0m\u001b[0mwrite\u001b[0m\u001b[1;33m(\u001b[0m\u001b[0mcmd\u001b[0m\u001b[1;33m)\u001b[0m\u001b[1;33m\u001b[0m\u001b[0m\n\u001b[0m\u001b[0;32m    206\u001b[0m         \u001b[0mself\u001b[0m\u001b[1;33m.\u001b[0m\u001b[0mcheck_error\u001b[0m\u001b[1;33m(\u001b[0m\u001b[0mret_code\u001b[0m\u001b[1;33m)\u001b[0m\u001b[1;33m\u001b[0m\u001b[0m\n\u001b[0;32m    207\u001b[0m \u001b[1;33m\u001b[0m\u001b[0m\n",
      "\u001b[1;31mTypeError\u001b[0m: (\"'NoneType' object is not iterable\", \"writing 'TRIGger:IMPedance 50' to <Tektronix_AWG5014: awg_sim>\", 'setting awg_sim_trigger_impedance to 50')"
     ]
    }
   ],
   "source": [
    "real_instrument_present = False\n",
    "\n",
    "if real_instrument_present:\n",
    "    from qdev_wrappers.station_configurator import StationConfigurator\n",
    "    sc = StationConfigurator()\n",
    "    awg = sc.load_instrument('AWG5014')\n",
    "else:\n",
    "    from qcodes.instrument_drivers.tektronix.AWG5014 import Tektronix_AWG5014\n",
    "    import qcodes.instrument.sims as sims\n",
    "    visalib = sims.__file__.replace('__init__.py', 'Tektronix_AWG5014C.yaml@sim') \n",
    "    awg_sim = Tektronix_AWG5014('awg_sim',\n",
    "                                address='GPIB0::1::65535::INSTR',\n",
    "                                timeout=1,\n",
    "                                terminator='\\n',\n",
    "                                visalib=visalib)"
   ]
  },
  {
   "cell_type": "code",
   "execution_count": 11,
   "metadata": {},
   "outputs": [],
   "source": [
    "def send_and_plot(forged_sequence, SR):\n",
    "    if real_instrument_present:\n",
    "        awg.make_send_and_load_awg_file_from_forged_sequence(forged_sequence)\n",
    "    plotter(forged_sequence, SR=SR)"
   ]
  },
  {
   "cell_type": "markdown",
   "metadata": {},
   "source": [
    "## Hello World\n",
    "Lets upload a simple sine wave.\n",
    "First import all dependencies (the init file still needs to be setup to make this easier)"
   ]
  },
  {
   "cell_type": "code",
   "execution_count": 12,
   "metadata": {},
   "outputs": [],
   "source": [
    "import numpy as np\n",
    "from broadbean import Segment, SegmentGroup, Element, Sequence\n",
    "# atoms here are basic functions that create segments\n",
    "from broadbean.atoms import sine, ramp, flat, zero, on, off\n",
    "from broadbean.plotting import plotter"
   ]
  },
  {
   "cell_type": "markdown",
   "metadata": {},
   "source": [
    "and the actual creation is (almost) self explanatory:"
   ]
  },
  {
   "cell_type": "code",
   "execution_count": 13,
   "metadata": {},
   "outputs": [],
   "source": [
    "seg = sine(duration=1e-3, frequency=1e3)\n",
    "# create an element with a single segment on channel `2`\n",
    "e = Element({2:seg})\n",
    "s = Sequence([e])\n",
    "fs = s.forge(SR=1e6)"
   ]
  },
  {
   "cell_type": "markdown",
   "metadata": {},
   "source": [
    "`fs` is the _forged sequece_ and can be passed to the qcodes driver."
   ]
  },
  {
   "cell_type": "code",
   "execution_count": 14,
   "metadata": {},
   "outputs": [
    {
     "data": {
      "image/png": "[encoded data removed]",
      "text/plain": [
       "<Figure size 432x288 with 2 Axes>"
      ]
     },
     "metadata": {},
     "output_type": "display_data"
    }
   ],
   "source": [
    "send_and_plot(fs, SR=1e6)"
   ]
  },
  {
   "cell_type": "markdown",
   "metadata": {},
   "source": [
    "## Segment Groups\n",
    "If we want to create a segment that is composed by multiple atoms, we need to create a `SegmentGroup`:"
   ]
  },
  {
   "cell_type": "code",
   "execution_count": 16,
   "metadata": {},
   "outputs": [],
   "source": [
    "# create a square pulse\n",
    "seg1 = zero(duration=1e-3)\n",
    "seg2 = flat(duration=1e-3, amplitude=1)\n",
    "seg3 = zero(duration=1e-3)\n",
    "\n",
    "pi_pulse = SegmentGroup(seg1, seg2, seg3,\n",
    "                        duration = 3e-3)\n",
    "fs = Sequence([Element({1:pi_pulse})]).forge(SR=1e6)"
   ]
  },
  {
   "cell_type": "code",
   "execution_count": 17,
   "metadata": {},
   "outputs": [
    {
     "data": {
      "image/png": "[encoded data removed]",
      "text/plain": [
       "<Figure size 432x288 with 2 Axes>"
      ]
     },
     "metadata": {},
     "output_type": "display_data"
    }
   ],
   "source": [
    "send_and_plot(fs, SR=1e6)"
   ]
  },
  {
   "cell_type": "markdown",
   "metadata": {},
   "source": [
    "## Symbols\n",
    "The most significant improvement is that one can define _symbols_. That means we can define a prototype of/recepie for a sequence and parametrize it. A symbol is nothing but a property that has not been given a concrete numeric value but a placeholder for evaluation at forging time. This is simply realized by passing a `str` as the value of a given property\n",
    "To follow up with the previous example we could specify the amplitude of that pi-pulse:"
   ]
  },
  {
   "cell_type": "code",
   "execution_count": 18,
   "metadata": {},
   "outputs": [],
   "source": [
    "# create a square pulse\n",
    "seg1 = zero(duration=1e-3)\n",
    "seg2 = flat(duration=1e-3, amplitude='pi_amp')\n",
    "seg3 = zero(duration=1e-3)\n",
    "\n",
    "pi_pulse = SegmentGroup(seg1, seg2, seg3,\n",
    "                        duration = 1e3)\n",
    "s = Sequence([Element({1:pi_pulse})])\n",
    "# here the sequence s is a recepy for building a pi-pulse for any amplitude\n",
    "# for getting the actual waveform we need to specify the context and pass it to the forge method\n",
    "context = {'pi_amp': 0.5}\n",
    "fs = s.forge(SR=1e6, context=context)"
   ]
  },
  {
   "cell_type": "code",
   "execution_count": 19,
   "metadata": {},
   "outputs": [
    {
     "data": {
      "image/png": "[encoded data removed]",
      "text/plain": [
       "<Figure size 432x288 with 2 Axes>"
      ]
     },
     "metadata": {},
     "output_type": "display_data"
    }
   ],
   "source": [
    "send_and_plot(fs, SR=1e6)"
   ]
  },
  {
   "cell_type": "markdown",
   "metadata": {},
   "source": [
    "## Transformations\n",
    "In order to make the feature of symbols really useful we need to take into account dependencies of symbols. So for example if we want to tune the pulse duration and keep the overall duration of the element constant.\n",
    "For this we can introduce a transformation:"
   ]
  },
  {
   "cell_type": "code",
   "execution_count": 20,
   "metadata": {},
   "outputs": [],
   "source": [
    "from broadbean import transformation\n",
    "\n",
    "seg1 = zero(duration=1e-1)\n",
    "seg2 = flat(duration='pulse_duration', amplitude=1)\n",
    "seg3 = zero(duration='flex_time')\n",
    "\n",
    "@transformation\n",
    "def keep_total_duration_constant(context):\n",
    "    context['flex_time'] = context['total_duration'] - context['pulse_duration'] - 1e-1\n",
    "                                 \n",
    "\n",
    "pi_pulse = SegmentGroup(seg1, seg2, seg3,\n",
    "                        duration = 'total_duration',\n",
    "                        transformation=keep_total_duration_constant)\n",
    "s = Sequence([Element({1:pi_pulse})])\n",
    "# here the sequence s is a recepy for building a pi-pulse for any amplitude\n",
    "# for getting the actual waveform we need to specify the context and pass it to the forge method\n",
    "context = {'pulse_duration': 0.5e-1,\n",
    "           'total_duration': 3e-1}\n",
    "fs = s.forge(SR=1e6, context=context)"
   ]
  },
  {
   "cell_type": "code",
   "execution_count": 21,
   "metadata": {},
   "outputs": [
    {
     "data": {
      "image/png": "[encoded data removed]",
      "text/plain": [
       "<Figure size 432x288 with 2 Axes>"
      ]
     },
     "metadata": {},
     "output_type": "display_data"
    }
   ],
   "source": [
    "send_and_plot(fs, SR=1e6)"
   ]
  },
  {
   "cell_type": "markdown",
   "metadata": {},
   "source": [
    "## Making Parametric Sequences\n",
    "The next logical step is to harness the power of changing symbol values of an element to create a sequence: Here a pulse sequence of centered pulses of increasing length is created."
   ]
  },
  {
   "cell_type": "code",
   "execution_count": 22,
   "metadata": {},
   "outputs": [],
   "source": [
    "from broadbean.transformations import transformation\n",
    "from broadbean.segment import in_context\n",
    "\n",
    "seg1 = zero(duration='flex_time')\n",
    "seg2 = flat(duration='pulse_duration', amplitude=1)\n",
    "seg3 = zero(duration='flex_time')\n",
    "\n",
    "# make it centered this time\n",
    "@transformation\n",
    "def keep_total_duration_constant(context):\n",
    "    context['flex_time'] = 0.5*(context['total_duration'] - context['pulse_duration'])\n",
    "                                 \n",
    "\n",
    "pi_pulse = SegmentGroup(seg1, seg2, seg3,\n",
    "                        duration = 'total_duration',\n",
    "                        transformation=keep_total_duration_constant)\n",
    "\n",
    "e = Element({1:pi_pulse})\n",
    "s = Sequence([in_context(e, pulse_duration=t) for t in np.linspace(0.1e-3,1e-3,5)])\n",
    "\n",
    "# here the sequence s is a recepy for building a pi-pulse for any amplitude\n",
    "# for getting the actual waveform we need to specify the context and pass it to the forge method\n",
    "context = {'total_duration': 3e-3}\n",
    "fs = s.forge(SR=1e6, context=context)"
   ]
  },
  {
   "cell_type": "code",
   "execution_count": 23,
   "metadata": {},
   "outputs": [
    {
     "data": {
      "image/png": "[encoded data removed]",
      "text/plain": [
       "<Figure size 432x288 with 6 Axes>"
      ]
     },
     "metadata": {},
     "output_type": "display_data"
    }
   ],
   "source": [
    "send_and_plot(fs, SR=1e6)"
   ]
  },
  {
   "cell_type": "markdown",
   "metadata": {},
   "source": [
    "## Adding markers\n",
    "Markers in this version are treated identical to any other typpe of trace. There are no checks yet if the marker trace is really only 1 or 0."
   ]
  },
  {
   "cell_type": "code",
   "execution_count": 24,
   "metadata": {},
   "outputs": [],
   "source": [
    "seg1 = sine(duration='excite_time', phase=np.pi/2, amplitude='amp', frequency=1e3)\n",
    "# default arguments can be used\n",
    "seg2 = sine(duration='readout_time', frequency=1e3)\n",
    "\n",
    "m1 = on(duration='excite_time')\n",
    "m2 = off(duration='readout_time')\n",
    "\n",
    "gs = SegmentGroup(seg1, seg2,\n",
    "                  duration='total_duration')\n",
    "\n",
    "ms = SegmentGroup(m1, m2,\n",
    "                  duration='total_duration')\n",
    "\n",
    "# sequencing information is simply stored as a dict in the elements\n",
    "e = Element({2:gs,\n",
    "             '1M1':ms},\n",
    "            {'nr_rep':2})\n",
    "\n",
    "s = Sequence([e, e])\n",
    "times = {'readout_time': 1e-3,\n",
    "         'excite_time': 2e-3,\n",
    "        'amp':1}\n",
    "fs = s.forge(SR=1e6, context=times)"
   ]
  },
  {
   "cell_type": "code",
   "execution_count": 25,
   "metadata": {},
   "outputs": [
    {
     "data": {
      "image/png": "[encoded data removed]",
      "text/plain": [
       "<Figure size 432x288 with 6 Axes>"
      ]
     },
     "metadata": {},
     "output_type": "display_data"
    }
   ],
   "source": [
    "send_and_plot(fs, SR=1e6)"
   ]
  },
  {
   "cell_type": "markdown",
   "metadata": {},
   "source": [
    "## Routing Signals\n",
    "The routing module enables to define sequences for abstract channel names and then use a routing dictionary to map those channels to real instrument channels. This seperates the logic of the sequence from the actual wiring. Beyond that one can define sequences that involve multiple instruments.\n",
    "\n",
    "The following example outputs the marker on a different instrument."
   ]
  },
  {
   "cell_type": "code",
   "execution_count": 19,
   "metadata": {
    "scrolled": true
   },
   "outputs": [
    {
     "ename": "NameError",
     "evalue": "name 'awg' is not defined",
     "output_type": "error",
     "traceback": [
      "\u001b[1;31m---------------------------------------------------------------------------\u001b[0m",
      "\u001b[1;31mNameError\u001b[0m                                 Traceback (most recent call last)",
      "\u001b[1;32m<ipython-input-19-c27f168278d3>\u001b[0m in \u001b[0;36m<module>\u001b[1;34m()\u001b[0m\n\u001b[0;32m     25\u001b[0m \u001b[0mfs\u001b[0m \u001b[1;33m=\u001b[0m \u001b[0ms\u001b[0m\u001b[1;33m.\u001b[0m\u001b[0mforge\u001b[0m\u001b[1;33m(\u001b[0m\u001b[0mSR\u001b[0m\u001b[1;33m=\u001b[0m\u001b[1;36m1e6\u001b[0m\u001b[1;33m,\u001b[0m \u001b[0mcontext\u001b[0m\u001b[1;33m=\u001b[0m\u001b[0mtimes\u001b[0m\u001b[1;33m)\u001b[0m\u001b[1;33m\u001b[0m\u001b[0m\n\u001b[0;32m     26\u001b[0m \u001b[1;33m\u001b[0m\u001b[0m\n\u001b[1;32m---> 27\u001b[1;33m routing_dict = {'MyOutputChannel': (awg.name, 1),\n\u001b[0m\u001b[0;32m     28\u001b[0m                 'MyMarkerChannel': ('AntoherInstrument', '1M1')}\n\u001b[0;32m     29\u001b[0m \u001b[1;33m\u001b[0m\u001b[0m\n",
      "\u001b[1;31mNameError\u001b[0m: name 'awg' is not defined"
     ]
    }
   ],
   "source": [
    "from broadbean.routing import route\n",
    "\n",
    "seg1 = sine(duration='excite_time', phase=np.pi/2, amplitude='amp', frequency=1e3)\n",
    "# default arguments can be used\n",
    "seg2 = sine(duration='readout_time', frequency=1e3)\n",
    "\n",
    "m1 = on(duration='excite_time')\n",
    "m2 = off(duration='readout_time')\n",
    "\n",
    "gs = SegmentGroup(seg1, seg2,\n",
    "                  duration='total_duration')\n",
    "\n",
    "ms = SegmentGroup(m1, m2,\n",
    "                  duration='total_duration')\n",
    "\n",
    "e = Element({'MyOutputChannel':gs,\n",
    "             'MyMarkerChannel':ms},\n",
    "            {'nr_rep':2})\n",
    "\n",
    "s = Sequence([e, e])\n",
    "times = {'readout_time': 1e-3,\n",
    "         'excite_time': 2e-3,\n",
    "         'amp': 1}\n",
    "\n",
    "fs = s.forge(SR=1e6, context=times)\n",
    "\n",
    "routing_dict = {'MyOutputChannel': (awg.name, 1),\n",
    "                'MyMarkerChannel': ('AntoherInstrument', '1M1')}\n",
    "\n",
    "fs_awg = route(fs, routing_dict, awg)\n",
    "# do the same thing for the other instrument\n",
    "# fs_other = route(fs, routing_dict, ohter_instrument)"
   ]
  },
  {
   "cell_type": "code",
   "execution_count": null,
   "metadata": {},
   "outputs": [],
   "source": [
    "send_and_plot(fs, SR=1e6)"
   ]
  },
  {
   "cell_type": "markdown",
   "metadata": {},
   "source": [
    "## Serialization\n",
    "It should be possible to serialze the waveforms. This is certainly achievable at the level of the sequence object, when restricting oneself to the used of a defined set of _atoms_. \n",
    "\n",
    "It is desirable to have serialization at the highest possible level, i.e. that not the whole forged sequence gets saved but rather the recepie to create it.\n",
    "\n",
    "One could imagine a simple DSL like yaml that would look like this:"
   ]
  },
  {
   "cell_type": "code",
   "execution_count": 13,
   "metadata": {},
   "outputs": [],
   "source": [
    "segments:\n",
    "    seg1:\n",
    "        type: sine\n",
    "        duration: excite_time\n",
    "elements:\n",
    "    e:\n",
    "        channels:\n",
    "            MyOutputChannel: seg1\n",
    "        sequencing:\n",
    "            nrep: 3\n",
    "            \n",
    "sequence:\n",
    "    - e\n",
    "    - e\n",
    "    \n",
    "\n",
    "from broadbean.routing import route\n",
    "\n",
    "seg1 = sine(duration='excite_time', phase=np.pi/2, amplitude='amp', frequency=1e3)\n",
    "# default arguments can be used\n",
    "seg2 = sine(duration='readout_time', frequency=1e3)\n",
    "\n",
    "m1 = on(duration='excite_time')\n",
    "m2 = off(duration='readout_time')\n",
    "\n",
    "gs = SegmentGroup(seg1, seg2,\n",
    "                  duration='total_duration')\n",
    "\n",
    "ms = SegmentGroup(m1, m2,\n",
    "                  duration='total_duration')\n",
    "\n",
    "e = Element({'MyOutputChannel':gs,\n",
    "             'MyMarkerChannel':ms},\n",
    "            {'nr_rep':2})\n",
    "\n",
    "s = Sequence([e, e])\n",
    "times = {'readout_time': 1e-3,\n",
    "         'excite_time': 2e-3}\n",
    "\n",
    "fs = s.forge(SR=1e6, context=times)\n",
    "\n",
    "routing_dict = {'MyOutputChannel': ('AWG5014', 1),\n",
    "                'MyMarkerChannel': ('AntoherInstrument', '1M1')}\n",
    "\n",
    "fs_awg = route(fs, routing_dict, awg)\n",
    "# do the same thing for the other instrument\n",
    "# fs_other = route(fs, routing_dict, ohter_instrument)"
   ]
  }
 ],
 "metadata": {
  "kernelspec": {
   "display_name": "Python 3",
   "language": "python",
   "name": "python3"
  },
  "language_info": {
   "codemirror_mode": {
    "name": "ipython",
    "version": 3
   },
   "file_extension": ".py",
   "mimetype": "text/x-python",
   "name": "python",
   "nbconvert_exporter": "python",
   "pygments_lexer": "ipython3",
   "version": "3.6.5"
  }
 },
 "nbformat": 4,
 "nbformat_minor": 2
}
