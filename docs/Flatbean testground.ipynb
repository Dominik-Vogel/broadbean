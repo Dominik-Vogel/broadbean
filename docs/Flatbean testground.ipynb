{
 "cells": [
  {
   "cell_type": "markdown",
   "metadata": {},
   "source": [
    "# Pulsebuilding Tutorial Flatbean Version\n",
    "Yapublib! Short intro on how to used this new Broadbean version to simply create pulses.\n",
    "One could say that going from the previous version to this version empowers the user in a similar way as going from the old dataset to the new data set, in the sense that for these _hard sweeps_ ordinary python syntax can be used very easily (adaptive sweeps are of course not possible)."
   ]
  },
  {
   "cell_type": "markdown",
   "metadata": {},
   "source": [
    "## System Setup\n",
    "To setup the system we use the `StationConfigurator` to generate an instance of the AWG5014. However all should be compatible with other AWGs. \n",
    "\n",
    "In the next cell we define the instrument instance and create a virtual instrument so that this notebook can also be used without an AWG at hand. Furthermore we define a function to send and plot the forged sequence.\n",
    "\n",
    "**you need to have the test_requirements.txt installed**"
   ]
  },
  {
   "cell_type": "code",
   "execution_count": 1,
   "metadata": {},
   "outputs": [
    {
     "name": "stderr",
     "output_type": "stream",
     "text": [
      "C:\\Users\\a-dovoge\\anaconda3\\lib\\site-packages\\h5py\\__init__.py:36: FutureWarning: Conversion of the second argument of issubdtype from `float` to `np.floating` is deprecated. In future, it will be treated as `np.float64 == np.dtype(float).type`.\n",
      "  from ._conv import register_converters as _register_converters\n"
     ]
    },
    {
     "name": "stdout",
     "output_type": "stream",
     "text": [
      "Connected to: QCoDeS AWG5014C (serial:1000, firmware:0.1) in 0.10s\n"
     ]
    }
   ],
   "source": [
    "real_instrument_present = False\n",
    "\n",
    "if real_instrument_present:\n",
    "    from qdev_wrappers.station_configurator import StationConfigurator\n",
    "    sc = StationConfigurator()\n",
    "    awg = sc.load_instrument('AWG5014')\n",
    "else:\n",
    "    from qcodes.instrument_drivers.tektronix.AWG5014 import Tektronix_AWG5014\n",
    "    from qcodes import Instrument\n",
    "    from contextlib import suppress\n",
    "    import qcodes.instrument.sims as sims\n",
    "    visalib = sims.__file__.replace('__init__.py', 'Tektronix_AWG5014C.yaml@sim')\n",
    "    with suppress(KeyError):\n",
    "        awg_sim = Instrument.find_instrument('awg_sim')\n",
    "        awg_sim.close()\n",
    "    awg = Tektronix_AWG5014('awg_sim',\n",
    "                            address='GPIB0::1::65535::INSTR',\n",
    "                            timeout=1,\n",
    "                            terminator='\\n',\n",
    "                            visalib=visalib)"
   ]
  },
  {
   "cell_type": "code",
   "execution_count": 2,
   "metadata": {},
   "outputs": [],
   "source": [
    "import numpy as np\n",
    "from broadbean import Segment, SegmentGroup, Element, Sequence\n",
    "# atoms here are basic functions that create segments\n",
    "from broadbean.atoms import sine, ramp, flat, zero, on, off\n",
    "from broadbean.plotting import plotter\n",
    "\n",
    "def send_and_plot(forged_sequence, SR):\n",
    "    if real_instrument_present:\n",
    "        awg.make_send_and_load_awg_file_from_forged_sequence(forged_sequence)\n",
    "    plotter(forged_sequence, SR=SR)"
   ]
  },
  {
   "cell_type": "markdown",
   "metadata": {},
   "source": [
    "## Hello World\n",
    "Lets upload a simple sine wave."
   ]
  },
  {
   "cell_type": "markdown",
   "metadata": {},
   "source": [
    "and the actual creation is (almost) self explanatory:"
   ]
  },
  {
   "cell_type": "code",
   "execution_count": 4,
   "metadata": {},
   "outputs": [],
   "source": [
    "seg = sine(duration=1e-3, frequency=1e3)\n",
    "# create an element with a single segment on channel `2`\n",
    "e = Element({2:seg})\n",
    "s = Sequence([e])\n",
    "fs = s.forge(SR=1e6)"
   ]
  },
  {
   "cell_type": "markdown",
   "metadata": {},
   "source": [
    "`fs` is the _forged sequece_ and can be passed to the qcodes driver."
   ]
  },
  {
   "cell_type": "code",
   "execution_count": 5,
   "metadata": {},
   "outputs": [
    {
     "data": {
      "image/png": "[encoded data removed]",
      "text/plain": [
       "<Figure size 432x288 with 2 Axes>"
      ]
     },
     "metadata": {},
     "output_type": "display_data"
    }
   ],
   "source": [
    "send_and_plot(fs, SR=1e6)"
   ]
  },
  {
   "cell_type": "markdown",
   "metadata": {},
   "source": [
    "## Segment Groups\n",
    "If we want to create a segment that is composed by multiple atoms, we need to create a `SegmentGroup`:"
   ]
  },
  {
   "cell_type": "code",
   "execution_count": 5,
   "metadata": {},
   "outputs": [],
   "source": [
    "# create a square pulse\n",
    "seg1 = zero(duration=1e-3)\n",
    "seg2 = flat(duration=1e-3, amplitude=1)\n",
    "seg3 = zero(duration=1e-3)\n",
    "\n",
    "pi_pulse = SegmentGroup(seg1, seg2, seg3,\n",
    "                        duration = 3e-3)\n",
    "fs = Sequence([Element({1:pi_pulse})]).forge(SR=1e6)"
   ]
  },
  {
   "cell_type": "code",
   "execution_count": 6,
   "metadata": {},
   "outputs": [
    {
     "data": {
      "image/png": "[encoded data removed]",
      "text/plain": [
       "<Figure size 432x288 with 2 Axes>"
      ]
     },
     "metadata": {},
     "output_type": "display_data"
    }
   ],
   "source": [
    "send_and_plot(fs, SR=1e6)"
   ]
  },
  {
   "cell_type": "markdown",
   "metadata": {},
   "source": [
    "## Symbols\n",
    "The most significant improvement is that one can define _symbols_. That means we can define a prototype of/recepie for a sequence and parametrize it. A symbol is nothing but a property that has not been given a concrete numeric value but a placeholder for evaluation at forging time. This is simply realized by passing a `str` as the value of a given property\n",
    "To follow up with the previous example we could specify the amplitude of that pi-pulse:"
   ]
  },
  {
   "cell_type": "code",
   "execution_count": 7,
   "metadata": {},
   "outputs": [],
   "source": [
    "# create a square pulse\n",
    "seg1 = zero(duration=1e-3)\n",
    "seg2 = flat(duration=1e-3, amplitude='pi_amp')\n",
    "seg3 = zero(duration=1e-3)\n",
    "\n",
    "pi_pulse = SegmentGroup(seg1, seg2, seg3,\n",
    "                        duration = 1e3)\n",
    "s = Sequence([Element({1:pi_pulse})])\n",
    "# here the sequence s is a recepy for building a pi-pulse for any amplitude\n",
    "# for getting the actual waveform we need to specify the context and pass it to the forge method\n",
    "context = {'pi_amp': 0.5}\n",
    "fs = s.forge(SR=1e6, context=context)"
   ]
  },
  {
   "cell_type": "code",
   "execution_count": 8,
   "metadata": {},
   "outputs": [
    {
     "data": {
      "image/png": "[encoded data removed]",
      "text/plain": [
       "<Figure size 432x288 with 2 Axes>"
      ]
     },
     "metadata": {},
     "output_type": "display_data"
    }
   ],
   "source": [
    "send_and_plot(fs, SR=1e6)"
   ]
  },
  {
   "cell_type": "markdown",
   "metadata": {},
   "source": [
    "## Transformations\n",
    "In order to make the feature of symbols really useful we need to take into account dependencies of symbols. So for example if we want to tune the pulse duration and keep the overall duration of the element constant.\n",
    "For this we can introduce a transformation:"
   ]
  },
  {
   "cell_type": "code",
   "execution_count": 9,
   "metadata": {},
   "outputs": [],
   "source": [
    "seg1 = zero(duration=1e-1)\n",
    "seg2 = flat(duration='pulse_duration', amplitude=1)\n",
    "seg3 = zero(duration='flex_time')\n",
    "\n",
    "def keep_total_duration_constant(context):\n",
    "    context['flex_time'] = context['total_duration'] - context['pulse_duration'] - 1e-1\n",
    "                                 \n",
    "\n",
    "pi_pulse = SegmentGroup(seg1, seg2, seg3,\n",
    "                        duration = 'total_duration',\n",
    "                        transformation=keep_total_duration_constant)\n",
    "s = Sequence([Element({1:pi_pulse})])\n",
    "# here the sequence s is a recepy for building a pi-pulse for any amplitude\n",
    "# for getting the actual waveform we need to specify the context and pass it to the forge method\n",
    "context = {'pulse_duration': 0.5e-1,\n",
    "           'total_duration': 3e-1}\n",
    "fs = s.forge(SR=1e6, context=context)"
   ]
  },
  {
   "cell_type": "code",
   "execution_count": 10,
   "metadata": {},
   "outputs": [
    {
     "data": {
      "image/png": "[encoded data removed]",
      "text/plain": [
       "<Figure size 432x288 with 2 Axes>"
      ]
     },
     "metadata": {},
     "output_type": "display_data"
    }
   ],
   "source": [
    "send_and_plot(fs, SR=1e6)"
   ]
  },
  {
   "cell_type": "markdown",
   "metadata": {},
   "source": [
    "## Making Parametric Sequences\n",
    "The next logical step is to harness the power of changing symbol values of an element to create a sequence: Here a pulse sequence of centered pulses of increasing length is created."
   ]
  },
  {
   "cell_type": "code",
   "execution_count": 11,
   "metadata": {},
   "outputs": [],
   "source": [
    "from broadbean import in_context\n",
    "\n",
    "seg1 = zero(duration='flex_time')\n",
    "seg2 = flat(duration='pulse_duration', amplitude=1)\n",
    "seg3 = zero(duration='flex_time')\n",
    "\n",
    "# make it centered this time\n",
    "def keep_total_duration_constant(context):\n",
    "    context['flex_time'] = 0.5*(context['total_duration'] - context['pulse_duration'])\n",
    "                                 \n",
    "\n",
    "pi_pulse = SegmentGroup(seg1, seg2, seg3,\n",
    "                        duration = 'total_duration',\n",
    "                        transformation=keep_total_duration_constant)\n",
    "\n",
    "e = Element({1:pi_pulse})\n",
    "s = Sequence([in_context(e, pulse_duration=t) for t in np.linspace(0.1e-3,1e-3,5)])\n",
    "\n",
    "# here the sequence s is a recepy for building a pi-pulse for any amplitude\n",
    "# for getting the actual waveform we need to specify the context and pass it to the forge method\n",
    "context = {'total_duration': 3e-3}\n",
    "fs = s.forge(SR=1e6, context=context)"
   ]
  },
  {
   "cell_type": "code",
   "execution_count": 12,
   "metadata": {},
   "outputs": [
    {
     "data": {
      "image/png": "[encoded data removed]",
      "text/plain": [
       "<Figure size 432x288 with 6 Axes>"
      ]
     },
     "metadata": {},
     "output_type": "display_data"
    }
   ],
   "source": [
    "send_and_plot(fs, SR=1e6)"
   ]
  },
  {
   "cell_type": "markdown",
   "metadata": {},
   "source": [
    "## Adding markers\n",
    "Markers in this version are treated identical to any other typpe of trace. There are no checks yet if the marker trace is really only 1 or 0."
   ]
  },
  {
   "cell_type": "code",
   "execution_count": 13,
   "metadata": {},
   "outputs": [],
   "source": [
    "seg1 = sine(duration='excite_time', phase=np.pi/2, amplitude='amp', frequency=1e3)\n",
    "# default arguments can be used\n",
    "seg2 = sine(duration='readout_time', frequency=1e3)\n",
    "\n",
    "m1 = on(duration='excite_time')\n",
    "m2 = off(duration='readout_time')\n",
    "\n",
    "gs = SegmentGroup(seg1, seg2,\n",
    "                  duration='total_duration')\n",
    "\n",
    "ms = SegmentGroup(m1, m2,\n",
    "                  duration='total_duration')\n",
    "\n",
    "# sequencing information is simply stored as a dict in the elements\n",
    "e = Element({2:gs,\n",
    "             '1M1':ms},\n",
    "            {'nr_rep':2})\n",
    "\n",
    "s = Sequence([e, e])\n",
    "times = {'readout_time': 1e-3,\n",
    "         'excite_time': 2e-3,\n",
    "        'amp':1}\n",
    "fs = s.forge(SR=1e6, context=times)"
   ]
  },
  {
   "cell_type": "code",
   "execution_count": 14,
   "metadata": {},
   "outputs": [
    {
     "data": {
      "image/png": "[encoded data removed]",
      "text/plain": [
       "<Figure size 432x288 with 6 Axes>"
      ]
     },
     "metadata": {},
     "output_type": "display_data"
    }
   ],
   "source": [
    "send_and_plot(fs, SR=1e6)"
   ]
  },
  {
   "cell_type": "markdown",
   "metadata": {},
   "source": [
    "## Routing Signals\n",
    "The routing module enables to define sequences for abstract channel names and then use a routing dictionary to map those channels to real instrument channels. This seperates the logic of the sequence from the actual wiring. Beyond that one can define sequences that involve multiple instruments.\n",
    "\n",
    "The following example outputs the marker on a different instrument."
   ]
  },
  {
   "cell_type": "code",
   "execution_count": 15,
   "metadata": {
    "scrolled": true
   },
   "outputs": [],
   "source": [
    "seg1 = sine(duration='excite_time', phase=np.pi/2, amplitude='amp', frequency=1e3)\n",
    "# default arguments can be used\n",
    "seg2 = sine(duration='readout_time', frequency=1e3)\n",
    "\n",
    "m1 = on(duration='excite_time')\n",
    "m2 = off(duration='readout_time')\n",
    "\n",
    "gs = SegmentGroup(seg1, seg2,\n",
    "                  duration='total_duration')\n",
    "\n",
    "ms = SegmentGroup(m1, m2,\n",
    "                  duration='total_duration')\n",
    "\n",
    "e = Element({'MyOutputChannel':gs,\n",
    "             'MyMarkerChannel':ms},\n",
    "            {'nr_rep':2})\n",
    "\n",
    "s = Sequence([e, e])\n",
    "times = {'readout_time': 1e-3,\n",
    "         'excite_time': 2e-3,\n",
    "         'amp': 1}\n",
    "\n",
    "routing_dict = {'MyOutputChannel': (awg.name, 1),\n",
    "                'MyMarkerChannel': ('AnotherInstrument', '1M1')}\n",
    "\n",
    "fs1 = s.forge(SR=1e6,\n",
    "              context=times,\n",
    "              routes=routing_dict,\n",
    "              instrument_name=awg.name)\n",
    "fs2 = s.forge(SR=1e6,\n",
    "              context=times,\n",
    "              routes=routing_dict,\n",
    "              instrument_name='AnotherInstrument')\n",
    "\n",
    "\n",
    "# do the same thing for the other instrument\n",
    "# fs_other = route(fs, routing_dict, ohter_instrument)"
   ]
  },
  {
   "cell_type": "code",
   "execution_count": 16,
   "metadata": {
    "scrolled": true
   },
   "outputs": [
    {
     "ename": "IndexError",
     "evalue": "list index out of range",
     "output_type": "error",
     "traceback": [
      "\u001b[1;31m---------------------------------------------------------------------------\u001b[0m",
      "\u001b[1;31mIndexError\u001b[0m                                Traceback (most recent call last)",
      "\u001b[1;32m<ipython-input-16-648610083c82>\u001b[0m in \u001b[0;36m<module>\u001b[1;34m()\u001b[0m\n\u001b[0;32m      1\u001b[0m \u001b[0msend_and_plot\u001b[0m\u001b[1;33m(\u001b[0m\u001b[0mfs1\u001b[0m\u001b[1;33m,\u001b[0m \u001b[0mSR\u001b[0m\u001b[1;33m=\u001b[0m\u001b[1;36m1e6\u001b[0m\u001b[1;33m)\u001b[0m\u001b[1;33m\u001b[0m\u001b[0m\n\u001b[1;32m----> 2\u001b[1;33m \u001b[0msend_and_plot\u001b[0m\u001b[1;33m(\u001b[0m\u001b[0mfs2\u001b[0m\u001b[1;33m,\u001b[0m \u001b[0mSR\u001b[0m\u001b[1;33m=\u001b[0m\u001b[1;36m1e6\u001b[0m\u001b[1;33m)\u001b[0m\u001b[1;33m\u001b[0m\u001b[0m\n\u001b[0m",
      "\u001b[1;32m<ipython-input-2-22095d927c0c>\u001b[0m in \u001b[0;36msend_and_plot\u001b[1;34m(forged_sequence, SR)\u001b[0m\n\u001b[0;32m      7\u001b[0m \u001b[1;32mdef\u001b[0m \u001b[0msend_and_plot\u001b[0m\u001b[1;33m(\u001b[0m\u001b[0mforged_sequence\u001b[0m\u001b[1;33m,\u001b[0m \u001b[0mSR\u001b[0m\u001b[1;33m)\u001b[0m\u001b[1;33m:\u001b[0m\u001b[1;33m\u001b[0m\u001b[0m\n\u001b[0;32m      8\u001b[0m     \u001b[1;32mif\u001b[0m \u001b[0mreal_instrument_present\u001b[0m\u001b[1;33m:\u001b[0m\u001b[1;33m\u001b[0m\u001b[0m\n\u001b[1;32m----> 9\u001b[1;33m         \u001b[0mawg\u001b[0m\u001b[1;33m.\u001b[0m\u001b[0mmake_send_and_load_awg_file_from_forged_sequence\u001b[0m\u001b[1;33m(\u001b[0m\u001b[0mforged_sequence\u001b[0m\u001b[1;33m)\u001b[0m\u001b[1;33m\u001b[0m\u001b[0m\n\u001b[0m\u001b[0;32m     10\u001b[0m     \u001b[0mplotter\u001b[0m\u001b[1;33m(\u001b[0m\u001b[0mforged_sequence\u001b[0m\u001b[1;33m,\u001b[0m \u001b[0mSR\u001b[0m\u001b[1;33m=\u001b[0m\u001b[0mSR\u001b[0m\u001b[1;33m)\u001b[0m\u001b[1;33m\u001b[0m\u001b[0m\n",
      "\u001b[1;32mc:\\users\\a-dovoge\\qcodes\\qcodes\\instrument_drivers\\tektronix\\AWG5014.py\u001b[0m in \u001b[0;36mmake_send_and_load_awg_file_from_forged_sequence\u001b[1;34m(self, seq, filename, preservechannelsettings)\u001b[0m\n\u001b[0;32m   1125\u001b[0m             \u001b[1;31m#TODO: make more general such that one can create a sequence\u001b[0m\u001b[1;33m\u001b[0m\u001b[1;33m\u001b[0m\u001b[0m\n\u001b[0;32m   1126\u001b[0m             \u001b[1;31m# without signals but only markers\u001b[0m\u001b[1;33m\u001b[0m\u001b[1;33m\u001b[0m\u001b[0m\n\u001b[1;32m-> 1127\u001b[1;33m             \u001b[0mn_samples\u001b[0m \u001b[1;33m=\u001b[0m \u001b[0mlen\u001b[0m\u001b[1;33m(\u001b[0m\u001b[0mstep_waveforms\u001b[0m\u001b[1;33m[\u001b[0m\u001b[1;36m0\u001b[0m\u001b[1;33m]\u001b[0m\u001b[1;33m)\u001b[0m\u001b[1;33m\u001b[0m\u001b[0m\n\u001b[0m\u001b[0;32m   1128\u001b[0m             \u001b[1;32mfor\u001b[0m \u001b[0mj\u001b[0m \u001b[1;32min\u001b[0m \u001b[0mrange\u001b[0m\u001b[1;33m(\u001b[0m\u001b[0mn_channels\u001b[0m\u001b[1;33m)\u001b[0m\u001b[1;33m:\u001b[0m\u001b[1;33m\u001b[0m\u001b[0m\n\u001b[0;32m   1129\u001b[0m                 \u001b[1;32mfor\u001b[0m \u001b[0mi\u001b[0m \u001b[1;32min\u001b[0m \u001b[0mrange\u001b[0m\u001b[1;33m(\u001b[0m\u001b[1;36m2\u001b[0m\u001b[1;33m)\u001b[0m\u001b[1;33m:\u001b[0m\u001b[1;33m\u001b[0m\u001b[0m\n",
      "\u001b[1;31mIndexError\u001b[0m: list index out of range"
     ]
    },
    {
     "data": {
      "image/png": "[encoded data removed]",
      "text/plain": [
       "<Figure size 432x288 with 3 Axes>"
      ]
     },
     "metadata": {},
     "output_type": "display_data"
    }
   ],
   "source": [
    "send_and_plot(fs1, SR=1e6)\n",
    "send_and_plot(fs2, SR=1e6)"
   ]
  },
  {
   "cell_type": "markdown",
   "metadata": {},
   "source": [
    "## Making Parametric Sequences with transformation on element level\n",
    "So far we have applied a simple transformation that operates purely on SegmentGroup level. Taking this to the next step includes transformations that act on Element level.\n",
    "\n",
    "Therefore we consider an example where we add a marker to the flex element with some delay"
   ]
  },
  {
   "cell_type": "code",
   "execution_count": 17,
   "metadata": {},
   "outputs": [],
   "source": [
    "from broadbean import in_context\n",
    "\n",
    "seg1 = zero(duration='flex_time')\n",
    "seg2 = flat(duration='pulse_duration', amplitude=1)\n",
    "seg3 = zero(duration='flex_time')\n",
    "\n",
    "pi_pulse = SegmentGroup(seg1, seg2, seg3,\n",
    "                        duration = 'total_duration')\n",
    "\n",
    "m1 = off(duration='pre_marker_time')\n",
    "m2 = on(duration='marker_time')\n",
    "m3 = off(duration='post_marker_time')\n",
    "\n",
    "markers = SegmentGroup(m1, m2, m3,\n",
    "                        duration = 'total_duration')\n",
    "\n",
    "def mytransformation(context):\n",
    "    context['flex_time'] = 0.5*(context['total_duration'] - context['pulse_duration'])\n",
    "    context['pre_marker_time'] = context['flex_time'] + context['marker_delay']\n",
    "    context['post_marker_time'] = context['total_duration'] - context['marker_time'] - context['pre_marker_time']\n",
    "                                 \n",
    "\n",
    "e = Element({1:pi_pulse,\n",
    "            '1M1':markers},\n",
    "            transformation=mytransformation)\n",
    "s = Sequence([in_context(e, pulse_duration=t) for t in np.linspace(0.5e-3,2e-3,5)])\n",
    "\n",
    "# here the sequence s is a recepy for building a pi-pulse for any amplitude\n",
    "# for getting the actual waveform we need to specify the context and pass it to the forge method\n",
    "context = {'total_duration': 3e-3,\n",
    "          'marker_time': 2e-4,\n",
    "          'marker_delay':5e-4}\n",
    "fs = s.forge(SR=1e6, context=context)"
   ]
  },
  {
   "cell_type": "markdown",
   "metadata": {},
   "source": [
    "It looks like it didn't work correctly but the varying marker delay is an optical illusion"
   ]
  },
  {
   "cell_type": "code",
   "execution_count": 18,
   "metadata": {},
   "outputs": [
    {
     "data": {
      "image/png": "[encoded data removed]",
      "text/plain": [
       "<Figure size 432x288 with 12 Axes>"
      ]
     },
     "metadata": {},
     "output_type": "display_data"
    }
   ],
   "source": [
    "send_and_plot(fs, SR=1e6)"
   ]
  },
  {
   "cell_type": "markdown",
   "metadata": {},
   "source": [
    "## Serialization\n",
    "It *should* be possible to serialze the waveforms. This is certainly achievable at the level of the sequence object, when restricting oneself to the used of a defined set of _atoms_. \n",
    "\n",
    "It is desirable to have serialization at the highest possible level, i.e. that not the whole forged sequence gets saved but rather the recepie to create it.\n",
    "\n",
    "One could imagine a simple DSL like yaml that would look like this:"
   ]
  },
  {
   "cell_type": "code",
   "execution_count": 19,
   "metadata": {},
   "outputs": [
    {
     "ename": "SyntaxError",
     "evalue": "invalid syntax (<ipython-input-19-f3192ac4932f>, line 1)",
     "output_type": "error",
     "traceback": [
      "\u001b[1;36m  File \u001b[1;32m\"<ipython-input-19-f3192ac4932f>\"\u001b[1;36m, line \u001b[1;32m1\u001b[0m\n\u001b[1;33m    segments:\u001b[0m\n\u001b[1;37m             ^\u001b[0m\n\u001b[1;31mSyntaxError\u001b[0m\u001b[1;31m:\u001b[0m invalid syntax\n"
     ]
    }
   ],
   "source": [
    "segments:\n",
    "    seg1:\n",
    "        type: sine\n",
    "        duration: excite_time\n",
    "elements:\n",
    "    e:\n",
    "        channels:\n",
    "            MyOutputChannel: seg1\n",
    "        sequencing:\n",
    "            nrep: 3\n",
    "            \n",
    "sequence:\n",
    "    - e\n",
    "    - e\n",
    "    \n",
    "\n",
    "from broadbean.routing import route\n",
    "\n",
    "seg1 = sine(duration='excite_time', phase=np.pi/2, amplitude='amp', frequency=1e3)\n",
    "# default arguments can be used\n",
    "seg2 = sine(duration='readout_time', frequency=1e3)\n",
    "\n",
    "m1 = on(duration='excite_time')\n",
    "m2 = off(duration='readout_time')\n",
    "\n",
    "gs = SegmentGroup(seg1, seg2,\n",
    "                  duration='total_duration')\n",
    "\n",
    "ms = SegmentGroup(m1, m2,\n",
    "                  duration='total_duration')\n",
    "\n",
    "e = Element({'MyOutputChannel':gs,\n",
    "             'MyMarkerChannel':ms},\n",
    "            {'nr_rep':2})\n",
    "\n",
    "s = Sequence([e, e])\n",
    "times = {'readout_time': 1e-3,\n",
    "         'excite_time': 2e-3}\n",
    "\n",
    "fs = s.forge(SR=1e6, context=times)\n",
    "\n",
    "routing_dict = {'MyOutputChannel': ('AWG5014', 1),\n",
    "                'MyMarkerChannel': ('AntoherInstrument', '1M1')}\n",
    "\n",
    "fs_awg = route(fs, routing_dict, awg)\n",
    "# do the same thing for the other instrument\n",
    "# fs_other = route(fs, routing_dict, ohter_instrument)"
   ]
  },
  {
   "cell_type": "markdown",
   "metadata": {},
   "source": [
    "## Forge as meta data only\n",
    "For the time being the sequences can be stored as meta data. Instead of rendering the segments out in the form of an np.ndarray, the atom name and the arguments are stored."
   ]
  },
  {
   "cell_type": "code",
   "execution_count": 5,
   "metadata": {},
   "outputs": [],
   "source": [
    "seg1 = sine(duration='excite_time', phase=np.pi/2, amplitude='amp', frequency=1e3)\n",
    "seg2 = sine(duration='readout_time', frequency=1e3)\n",
    "m1 = on(duration='excite_time')\n",
    "m2 = off(duration='readout_time')\n",
    "gs = SegmentGroup(seg1, seg2,\n",
    "                  duration='total_duration')\n",
    "ms = SegmentGroup(m1, m2,\n",
    "                  duration='total_duration')\n",
    "e = Element({2:gs,\n",
    "             '1M1':ms},\n",
    "            {'nr_rep':2})\n",
    "\n",
    "s = Sequence([e, e])\n",
    "times = {'readout_time': 1e-3,\n",
    "         'excite_time': 2e-3,\n",
    "        'amp':1}\n",
    "fs = s.forge(SR=1e6, context=times, meta_data_only=True)"
   ]
  },
  {
   "cell_type": "code",
   "execution_count": 6,
   "metadata": {},
   "outputs": [
    {
     "data": {
      "text/plain": [
       "[{'data': {2: ({'atom': 'sine',\n",
       "     'args': {'phase': 1.5707963267948966,\n",
       "      'amplitude': 1,\n",
       "      'frequency': 1000.0,\n",
       "      'duration': 0.002}},\n",
       "    {'atom': 'sine', 'args': {'frequency': 1000.0, 'duration': 0.001}}),\n",
       "   '1M1': ({'atom': 'on', 'args': {'duration': 0.002}},\n",
       "    {'atom': 'off', 'args': {'duration': 0.001}})},\n",
       "  'sequencing': {'nr_rep': 2}},\n",
       " {'data': {2: ({'atom': 'sine',\n",
       "     'args': {'phase': 1.5707963267948966,\n",
       "      'amplitude': 1,\n",
       "      'frequency': 1000.0,\n",
       "      'duration': 0.002}},\n",
       "    {'atom': 'sine', 'args': {'frequency': 1000.0, 'duration': 0.001}}),\n",
       "   '1M1': ({'atom': 'on', 'args': {'duration': 0.002}},\n",
       "    {'atom': 'off', 'args': {'duration': 0.001}})},\n",
       "  'sequencing': {'nr_rep': 2}}]"
      ]
     },
     "execution_count": 6,
     "metadata": {},
     "output_type": "execute_result"
    }
   ],
   "source": [
    "fs"
   ]
  },
  {
   "cell_type": "code",
   "execution_count": null,
   "metadata": {},
   "outputs": [],
   "source": []
  }
 ],
 "metadata": {
  "kernelspec": {
   "display_name": "Python 3",
   "language": "python",
   "name": "python3"
  },
  "language_info": {
   "codemirror_mode": {
    "name": "ipython",
    "version": 3
   },
   "file_extension": ".py",
   "mimetype": "text/x-python",
   "name": "python",
   "nbconvert_exporter": "python",
   "pygments_lexer": "ipython3",
   "version": "3.6.5"
  }
 },
 "nbformat": 4,
 "nbformat_minor": 2
}
