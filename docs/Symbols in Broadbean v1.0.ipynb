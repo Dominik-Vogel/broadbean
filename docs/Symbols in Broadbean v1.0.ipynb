{
 "cells": [
  {
   "cell_type": "markdown",
   "metadata": {},
   "source": [
    "# FlatBean"
   ]
  },
  {
   "cell_type": "markdown",
   "metadata": {},
   "source": [
    "This is a minimal implementation of the symbolic represenation feature in a pulse building library."
   ]
  },
  {
   "cell_type": "code",
   "execution_count": 14,
   "metadata": {},
   "outputs": [],
   "source": [
    "from copy import copy\n",
    "from numpy import sin\n",
    "from broadbean.segment import Segment, SegmentGroup\n",
    "from broadbean.element import Element\n",
    "from broadbean.sequence_simple import Sequence"
   ]
  },
  {
   "cell_type": "markdown",
   "metadata": {},
   "source": [
    "Segments are defined with a function and list of parameters that can be strings=symbols or values.\n",
    "Specific segments (Atoms) are not yet implemented, but they behave identically"
   ]
  },
  {
   "cell_type": "code",
   "execution_count": 15,
   "metadata": {},
   "outputs": [],
   "source": [
    "s = Segment(function=lambda time,x: sin(time + x), duration='waiting_time', x='phase')\n",
    "s2 = Segment(function=lambda time,x: sin(time + x), duration='pulse_time', x='phase')"
   ]
  },
  {
   "cell_type": "markdown",
   "metadata": {},
   "source": [
    "The symbols get filled in through a context, defined by a dictionary at the latest possible time, i.e. when the waveform gets rendered=forged.\n",
    "\n",
    "In order to keep all gates open, we can define a transformation, that does some operation on the symbols defined in the context.\n",
    "\n",
    "In an equal manner as for the atom there should be a canon of transformations, so that they can easily be serialized and the whole sequence can be uniquely represented with a minimal necessary amount of data.\n",
    "\n",
    "Such a transformation could be for example a solver for linear equations.\n",
    "Here I define the transformation explicitly:"
   ]
  },
  {
   "cell_type": "code",
   "execution_count": 16,
   "metadata": {},
   "outputs": [],
   "source": [
    "def my_transformation(in_dict):\n",
    "    out_dict = copy(in_dict)\n",
    "    out_dict['total_duration'] = out_dict['waiting_time'] + out_dict['pulse_time']\n",
    "    return out_dict"
   ]
  },
  {
   "cell_type": "markdown",
   "metadata": {},
   "source": [
    "The transformation gets associated with a `SegmentGroup` as in the following example. In principle they should be  also attachable to Segments, Elements and Sequences. This allows scoping of names, as the transformations get executed in the same order and can overwrite existing values."
   ]
  },
  {
   "cell_type": "code",
   "execution_count": null,
   "metadata": {},
   "outputs": [],
   "source": [
    "gs = SegmentGroup(s,s2, duration='total_duration', transformation=my_transformation)\n",
    "out = gs.forge(100, waiting_time=1, pulse_time=1, phase=1)"
   ]
  },
  {
   "cell_type": "markdown",
   "metadata": {},
   "source": [
    "Elements are straight forward. Here I attach the sequencing options to the Element. I think we should represent jump targets as references to element objects, as in a linked list, and do the derefenciation to indeces in the forging process of the sequence."
   ]
  },
  {
   "cell_type": "code",
   "execution_count": 19,
   "metadata": {},
   "outputs": [
    {
     "data": {
      "text/plain": [
       "2"
      ]
     },
     "execution_count": 19,
     "metadata": {},
     "output_type": "execute_result"
    }
   ],
   "source": [
    "e = Element({'myChannel':gs}, {'nr_rep':2})\n",
    "e.get_duration(waiting_time=1, pulse_time=1)"
   ]
  },
  {
   "cell_type": "markdown",
   "metadata": {},
   "source": [
    "A Sequence is nothing more than a list of Elements. It can have sequencing information like an element and thus becomes a subsequence. (There are many ways in which we can implement subsequences, I don't have any preference yet, it could be a mixin: Sequenceable)"
   ]
  },
  {
   "cell_type": "code",
   "execution_count": 21,
   "metadata": {},
   "outputs": [
    {
     "data": {
      "text/plain": [
       "{0: {'sequencing': {'nr_rep': 2},\n",
       "  'content': {1: {'data': {'myChannel': array([0.84147098, 0.89120736, 0.93203909, 0.96355819, 0.98544973,\n",
       "            0.99749499, 0.9995736 , 0.99166481, 0.97384763, 0.94630009,\n",
       "            0.84147098, 0.89120736, 0.93203909, 0.96355819, 0.98544973,\n",
       "            0.99749499, 0.9995736 , 0.99166481, 0.97384763, 0.94630009,\n",
       "            0.90929743, 0.86320937, 0.8084964 , 0.74570521, 0.67546318,\n",
       "            0.59847214, 0.51550137, 0.42737988, 0.33498815, 0.23924933])}}},\n",
       "  'type': 'element'}}"
      ]
     },
     "execution_count": 21,
     "metadata": {},
     "output_type": "execute_result"
    }
   ],
   "source": [
    "s = Sequence([e])\n",
    "s.forge(10,{'waiting_time':1, 'pulse_time':2, 'phase': 1})"
   ]
  },
  {
   "cell_type": "markdown",
   "metadata": {},
   "source": [
    "Forging works as expected.\n",
    "\n",
    "A main part that needs to be implemented is the creation of a sequence from a list of parameter values. Say make a sequence from phase=1..10. But this should be easy."
   ]
  }
 ],
 "metadata": {
  "kernelspec": {
   "display_name": "Python 3",
   "language": "python",
   "name": "python3"
  },
  "language_info": {
   "codemirror_mode": {
    "name": "ipython",
    "version": 3
   },
   "file_extension": ".py",
   "mimetype": "text/x-python",
   "name": "python",
   "nbconvert_exporter": "python",
   "pygments_lexer": "ipython3",
   "version": "3.6.5"
  }
 },
 "nbformat": 4,
 "nbformat_minor": 2
}
