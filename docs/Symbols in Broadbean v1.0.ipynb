{
 "cells": [
  {
   "cell_type": "markdown",
   "metadata": {},
   "source": [
    "# Examples for a the possible implementation of symbols in broadbean"
   ]
  },
  {
   "cell_type": "markdown",
   "metadata": {},
   "source": [
    "In the PR I added a file 'segment_concept.py' that makes another implementation of the segment. I tried to base it as much as possible on the existing code, but needed to deviate at some points. It also not complete of course, but should rather be a minimal implementation.\n",
    "\n",
    "Here three objects get imported:\n",
    "- Segment: This is an abstract base class, that takes care of the symbols\n",
    "- FunctionSegment: This class represents what used to be the segment\n",
    "- GroupSegmetn: Groups together a number of Segments, so that one of them can have an undefined duration if the total duration of this GroupSegment is given"
   ]
  },
  {
   "cell_type": "code",
   "execution_count": 1,
   "metadata": {},
   "outputs": [],
   "source": [
    "from broadbean.segment_concept import Segment, FunctionSegment, GroupSegment"
   ]
  },
  {
   "cell_type": "markdown",
   "metadata": {},
   "source": [
    "## Segment\n",
    "We can create a segment, even though this will never happen in a real use case because the user will want to use classes derived from it instead. Here I do it for demonstration purposes only. Consider the following example:"
   ]
  },
  {
   "cell_type": "code",
   "execution_count": 2,
   "metadata": {},
   "outputs": [
    {
     "data": {
      "text/plain": [
       "{'another_property': 1, 'duration': 5, 'val': 2}"
      ]
     },
     "execution_count": 2,
     "metadata": {},
     "output_type": "execute_result"
    }
   ],
   "source": [
    "s = Segment(duration='waiting_time', val=None, another_property=1)\n",
    "s.get_all_properties(waiting_time=5, val=2)"
   ]
  },
  {
   "cell_type": "markdown",
   "metadata": {},
   "source": [
    "The segment s is created with three *properties* and then get_properties is called with a context and values dictionary and it returns a dictionary of properties with their final (in most cases numeric values). There are three types of properties, all represented here:\n",
    "- symbol: **duration** gets identified with the global symbol 'waiting_time' that is defined in the *context* passed to get_properties.\n",
    "- variable value: **val** is a value that is not yet specified, but gets also passed through a value dictionary in get_properties. The difference to the symbol is that val is a value specific to this Segment and the context is globally unique and will appear in other segments with the same value\n",
    "- fixed value: **another_property** is a fixed value, here simply represented by a number\n",
    "\n",
    "The name duration is a reserved name as every segment is specified to have a duration. It may, however, be of any of the above categories.\n",
    "\n",
    "To make the distiction between variable value and symbol clearer consider:"
   ]
  },
  {
   "cell_type": "code",
   "execution_count": 3,
   "metadata": {},
   "outputs": [
    {
     "data": {
      "text/plain": [
       "{'duration': 5, 'val': 5}"
      ]
     },
     "execution_count": 3,
     "metadata": {},
     "output_type": "execute_result"
    }
   ],
   "source": [
    "s2 = Segment(duration='waiting_time', val='waiting_time')\n",
    "s2.get_all_properties(waiting_time=5)"
   ]
  },
  {
   "cell_type": "markdown",
   "metadata": {},
   "source": [
    "# FunctionSegment\n",
    "The function segment forges a function into an array, and obtains the arguments of the function from properties. \n",
    "\n",
    "Lets define a linear function:"
   ]
  },
  {
   "cell_type": "code",
   "execution_count": 4,
   "metadata": {},
   "outputs": [],
   "source": [
    "def my_func(time, slope, offset):\n",
    "    return time*slope+offset"
   ]
  },
  {
   "cell_type": "markdown",
   "metadata": {},
   "source": [
    "It can be integrated into a segment like this:"
   ]
  },
  {
   "cell_type": "code",
   "execution_count": 5,
   "metadata": {},
   "outputs": [],
   "source": [
    "fs = FunctionSegment(function=my_func, duration=1, slope='conduction', offset=1)"
   ]
  },
  {
   "cell_type": "markdown",
   "metadata": {},
   "source": [
    "As before the properties are:"
   ]
  },
  {
   "cell_type": "code",
   "execution_count": 6,
   "metadata": {},
   "outputs": [
    {
     "data": {
      "text/plain": [
       "{'duration': 1, 'offset': 1, 'slope': 2}"
      ]
     },
     "execution_count": 6,
     "metadata": {},
     "output_type": "execute_result"
    }
   ],
   "source": [
    "fs.get_all_properties(conduction=2)"
   ]
  },
  {
   "cell_type": "markdown",
   "metadata": {},
   "source": [
    "The segment can now be forged in the context:"
   ]
  },
  {
   "cell_type": "code",
   "execution_count": 7,
   "metadata": {},
   "outputs": [
    {
     "data": {
      "text/plain": [
       "[<matplotlib.lines.Line2D at 0x275c29e8978>]"
      ]
     },
     "execution_count": 7,
     "metadata": {},
     "output_type": "execute_result"
    },
    {
     "data": {
      "image/png": "[encoded data removed]",
      "text/plain": [
       "<matplotlib.figure.Figure at 0x275c26c8eb8>"
      ]
     },
     "metadata": {},
     "output_type": "display_data"
    }
   ],
   "source": [
    "import matplotlib.pyplot as plt\n",
    "%matplotlib inline\n",
    "\n",
    "# the actual forging\n",
    "data_trace = fs.forge(100, conduction=2)\n",
    "\n",
    "plt.plot(data_trace)"
   ]
  },
  {
   "cell_type": "markdown",
   "metadata": {},
   "source": [
    "# GroupSegment\n",
    "With the GroupSegment multiple FunctionSegments can be glued together. Specail to the GroupSegment is that if the duration of this segment is specified, then one and only one of the child segments must have an undefined duration.\n",
    "\n",
    "In this context *undefined duration* means that it is a variable value, ie. it is initializes as *None*."
   ]
  },
  {
   "cell_type": "code",
   "execution_count": 45,
   "metadata": {},
   "outputs": [],
   "source": [
    "fs2 = FunctionSegment(function=my_func, duration=None, slope='conduction', offset=1)\n",
    "gs = GroupSegment(fs2, fs, duration=2)"
   ]
  },
  {
   "cell_type": "code",
   "execution_count": 46,
   "metadata": {
    "scrolled": true
   },
   "outputs": [
    {
     "data": {
      "text/plain": [
       "[<matplotlib.lines.Line2D at 0x275c2ddc710>]"
      ]
     },
     "execution_count": 46,
     "metadata": {},
     "output_type": "execute_result"
    },
    {
     "data": {
      "image/png": "[encoded data removed]",
      "text/plain": [
       "<matplotlib.figure.Figure at 0x275c2d42400>"
      ]
     },
     "metadata": {},
     "output_type": "display_data"
    }
   ],
   "source": [
    "plt.plot(gs.forge(100, conduction=2))"
   ]
  },
  {
   "cell_type": "markdown",
   "metadata": {},
   "source": [
    "If we give it no duration but two elements of defined duration"
   ]
  },
  {
   "cell_type": "code",
   "execution_count": 48,
   "metadata": {},
   "outputs": [
    {
     "data": {
      "text/plain": [
       "{'duration': 2}"
      ]
     },
     "execution_count": 48,
     "metadata": {},
     "output_type": "execute_result"
    }
   ],
   "source": [
    "gs = GroupSegment(fs, fs, duration=None)\n",
    "gs.get_all_properties()"
   ]
  },
  {
   "cell_type": "code",
   "execution_count": 51,
   "metadata": {},
   "outputs": [
    {
     "data": {
      "text/plain": [
       "array(0.0)"
      ]
     },
     "execution_count": 51,
     "metadata": {},
     "output_type": "execute_result"
    }
   ],
   "source": [
    "#plt.plot(\n",
    "gs.forge(100, conduction=2)\n",
    " #       )"
   ]
  },
  {
   "cell_type": "code",
   "execution_count": null,
   "metadata": {},
   "outputs": [],
   "source": []
  }
 ],
 "metadata": {
  "kernelspec": {
   "display_name": "Python 3",
   "language": "python",
   "name": "python3"
  },
  "language_info": {
   "codemirror_mode": {
    "name": "ipython",
    "version": 3
   },
   "file_extension": ".py",
   "mimetype": "text/x-python",
   "name": "python",
   "nbconvert_exporter": "python",
   "pygments_lexer": "ipython3",
   "version": "3.6.5"
  }
 },
 "nbformat": 4,
 "nbformat_minor": 2
}
